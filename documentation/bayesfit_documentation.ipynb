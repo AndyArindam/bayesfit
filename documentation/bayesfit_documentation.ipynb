{
 "cells": [
  {
   "cell_type": "markdown",
   "metadata": {},
   "source": [
    "# BayesFit Documentation"
   ]
  },
  {
   "cell_type": "markdown",
   "metadata": {},
   "source": [
    "If you found this module useful, please let me know on LinkedIn (https://www.linkedin.com/in/michael-slugocki-35b44190/) or GitHub (https://github.com/slugocm).  As a graduate student, all the recognition matters.  Thank you, and I hope you all enjoy! "
   ]
  },
  {
   "cell_type": "markdown",
   "metadata": {},
   "source": [
    "Within this document, we will explain how to use the BayesFit module to fit psychometric functions.  The module itself uses very few functions, but contains a wealth of functionality, fully leveraging the power of PyMC3. \n",
    "\n",
    "BayesFit uses MCMC sampling to obtain parameter estimates in fitting models to psychophysical data.  We encourage users to perform their own research regarding use of such sampling methods to obtain estimates for parameters of interest, as the pros and cons in using such methods for parameter estimation is beyond the scope of this tutorial. \n",
    "\n",
    "Without further ado, let us jump right in! \n",
    "\n",
    "We first import the modules we need for this example via the following lines of code:"
   ]
  },
  {
   "cell_type": "code",
   "execution_count": 2,
   "metadata": {
    "collapsed": false
   },
   "outputs": [],
   "source": [
    "# Import BayesFit module\n",
    "import bayesfit as bf\n",
    "\n",
    "# Import modules for this tutorial\n",
    "import numpy as np\n",
    "import matplotlib.pyplot as plt\n",
    "%matplotlib inline"
   ]
  },
  {
   "cell_type": "markdown",
   "metadata": {},
   "source": [
    "## Usage: Fitting model to single dataset"
   ]
  },
  {
   "cell_type": "markdown",
   "metadata": {},
   "source": [
    "### Data Format"
   ]
  },
  {
   "cell_type": "markdown",
   "metadata": {},
   "source": [
    "To save time, we will generate our own miniature dataset for a ficitious observer who has run in a psychophysical experiment."
   ]
  },
  {
   "cell_type": "code",
   "execution_count": 3,
   "metadata": {
    "collapsed": true
   },
   "outputs": [],
   "source": [
    "# We will generate a ficitious set of data from an observer\n",
    "x = [0.1, 0.21, 0.33, 0.44, 0.55, 0.66, 0.78, 0.9]\n",
    "y = [0.48, 0.47, 0.53, 0.55, 0.73, 0.83, 0.97, 0.96] \n",
    "N = [100, 100, 100, 100, 100, 100, 100, 100]\n",
    "data = np.array([x, y, N]).T"
   ]
  },
  {
   "cell_type": "markdown",
   "metadata": {},
   "source": [
    "For single datasets (i.e., data from one experiment), BayesFit expects the data to be organized in a m-row by 3-column Numpy array with the following format:\n",
    "\n",
    "Numpy.array [X (intensities), Y (proportion correct), N (Number of trials)]\n",
    "\n",
    "The first column should correspond to the intensities used in ascending order with row number, the second column proportion of correct responses at each intensity level, and the third row the number of trials run. Values along each row for columns two and three should be in correspondence to the level of intensity secified along that row in column one.\n",
    "\n",
    "Here is a very quick plot of the data we have just imported:"
   ]
  },
  {
   "cell_type": "code",
   "execution_count": 4,
   "metadata": {
    "collapsed": false
   },
   "outputs": [
    {
     "data": {
      "text/plain": [
       "<matplotlib.text.Text at 0x1720db1c128>"
      ]
     },
     "execution_count": 4,
     "metadata": {},
     "output_type": "execute_result"
    },
    {
     "data": {
      "image/png": "[encoded data removed]",
      "text/plain": [
       "<matplotlib.figure.Figure at 0x1720d996fd0>"
      ]
     },
     "metadata": {},
     "output_type": "display_data"
    }
   ],
   "source": [
    "# Generate simple plot of data\n",
    "plt.scatter(data[:,0], data[:,1])\n",
    "plt.xlabel('Stimulus intensity')\n",
    "plt.ylabel('Proportion correct')"
   ]
  },
  {
   "cell_type": "markdown",
   "metadata": {},
   "source": [
    "### Fit model using BayesFit: 'fitmodel' function"
   ]
  },
  {
   "cell_type": "markdown",
   "metadata": {},
   "source": [
    "Once we have our dataset appropriately organized, we are ready to fit a model using BayesFit to our data. To accomplish this, BayesFit uses one main function called **fitmodel**, where the user specifies as input all the options that they want to use when fitting a psychometric function to a dataset. BayesFit makes available to the user a variety of options to help provide the tools needed, while not bogging down the user with too many difficult decisions. Below, we describe all the options that are available to the user when fitting models to data, as well as the output variables from the fitting procedure."
   ]
  },
  {
   "cell_type": "code",
   "execution_count": 5,
   "metadata": {
    "collapsed": false
   },
   "outputs": [
    {
     "name": "stderr",
     "output_type": "stream",
     "text": [
      "C:\\ProgramData\\Anaconda3\\lib\\site-packages\\bayesfit-2.0-py3.6.egg\\bayesfit\\bayesfit.py:109: VisibleDeprecationWarning: using a non-integer number instead of an integer will result in an error in the future\n",
      "  response_y = np.zeros(data[i, 2])\n",
      "Sequential sampling (2 chains in 1 job)\n",
      "CompoundStep\n",
      ">Metropolis: [lambda_logodds__]\n",
      ">Metropolis: [beta]\n",
      ">Metropolis: [alpha]\n",
      "100%|████████████████████████████████████████████████████████████████████████████| 5500/5500 [00:05<00:00, 1022.68it/s]\n",
      "100%|████████████████████████████████████████████████████████████████████████████| 5500/5500 [00:04<00:00, 1161.59it/s]\n",
      "The number of effective samples is smaller than 25% for some parameters.\n"
     ]
    }
   ],
   "source": [
    "trace, metrics, options = bf.fitmodel(data,\n",
    "                                      batch=False,\n",
    "                                      logspace=None,\n",
    "                                      nafc=2,\n",
    "                                      sigmoid_type='logistic',\n",
    "                                      param_ests=None,\n",
    "                                      param_constraints=None,\n",
    "                                      threshold=0.75,\n",
    "                                      n_samples=5000,\n",
    "                                      chains=2,\n",
    "                                      n_workers=1\n",
    "                                      )\n",
    "\n",
    "# All arguments, and default values assigned to each argument, \n",
    "# are displayed above. \n",
    "\n",
    "# Describing each input and ouput argument in turn:\n",
    "\n",
    "# --------------------------------------------\n",
    "#\n",
    "# INPUT ARGUMENTS\n",
    "# \n",
    "# --------------------------------------------\n",
    "# \n",
    "# (1) data *mandatory*\n",
    "# Value type: Numpy array or dict\n",
    "# \n",
    "# This argument is simply the m-row by 3-column Numpy array corresponding\n",
    "# to data from the experiment.\n",
    "# --------------------------------------------\n",
    "# \n",
    "# (2) batch\n",
    "# Value type: Logical\n",
    "# Values: True or False \n",
    "# \n",
    "# Argument specifies whether the data provided to BayesFit is meant\n",
    "# to be batch fit. By default, this options is set to False, which assumes \n",
    "# that the user has provided a single Numpy array with data that they\n",
    "# would like to fit a single model to. If this options is set to true, \n",
    "# then the same model options will be fit to all datasets. If batch fitting\n",
    "# data, be sure to provide BayesFit with a dictionary that contains multiple\n",
    "# datasets, such that each dataset has its own key. For more information on \n",
    "# how to batch fit data using BayesFit, see the tutorial for batch fitting\n",
    "# below. \n",
    "# --------------------------------------------\n",
    "# \n",
    "# (3) logspace\n",
    "# Value type: Logical\n",
    "# Values: True or False \n",
    "# \n",
    "# Informs BayesFit whether the intensities provided need to be logspaced.\n",
    "# By default, BayesFit will attempt to logspace values for Weibull and \n",
    "# Log-Quick functions. Therefore, if your intensities are already logspaced,\n",
    "# and you are fitting one of these function, set this options to False. \n",
    "# Otherwise, omit this argument, or set to None. If you are certain you \n",
    "# would like to logspace your intensities despite what function you fit, \n",
    "# set this argument to True.\n",
    "# --------------------------------------------\n",
    "# \n",
    "# (4) nafc \n",
    "# Value type: Numeric\n",
    "# Values: range 1-10\n",
    "# \n",
    "# Number of alternative options provided to observer when making a judgment\n",
    "# during the experiment. By default, BayesFit assumes a 2AFC design, such\n",
    "# that observers have two choices that they can make for their response. \n",
    "# This argument is important in fixing the guess rate when fitting a \n",
    "# psychometric function to data. \n",
    "# --------------------------------------------\n",
    "# \n",
    "# (5) sigmoid_type\n",
    "# Value type: String\n",
    "# Values: logistic, weibull, gumbel, quick, log-quick, hyperbolic  \n",
    "# \n",
    "# Defines what sigmoid function to use in modelling an observer's \n",
    "# response given a stimulus intensity. By default, a logistic function \n",
    "# is used in fitting a model to data. However, if uncertain as to which \n",
    "# function to use, it is best to fit serveral different sigmoid types \n",
    "# to data and perform comparisons between fits to see which function \n",
    "# should be used in modelling an observer's response\n",
    "# --------------------------------------------\n",
    "# \n",
    "# (6) param_ests\n",
    "# Value type: List with numeric arguments\n",
    "# Values: [alpha, beta, gamma, lambda]    (min. 2 args!)\n",
    "# \n",
    "# A list of parameter estimates for the four parameters that define \n",
    "# a psychometric function. This include alpha and beta, which are typically \n",
    "# control the scale and slope parameters for functions (exceptions exist\n",
    "# such as for Weibull). Gamma is the guess rate (usually 1/nafc). Lambda\n",
    "# is the lapse rate, as sometimes observers get stimulus intensities of \n",
    "# large magnitude incorrect for various reasons not associated with \n",
    "# their perception of the stimulus iteself. \n",
    "# \n",
    "# If this argument is provided, the list must be of length 2 or greater, as\n",
    "# both estimates for alpha and beta must be provided. By default, alpha\n",
    "# will be estimated via linear regression, while beta is assigned a value \n",
    "# of 2. Gamma by default is assigned as 1/nafc. Lambda by default is \n",
    "# set to zero. \n",
    "# --------------------------------------------\n",
    "# \n",
    "# (7) param_constraints\n",
    "# Value type: List with logical arguments\n",
    "# Values: List [alpha, beta, gamma, lambda]    (min. 2 args!)\n",
    "# \n",
    "# A list indicating which parameters should be estimated versus which \n",
    "# values should remain fixed. For example, if a parameter estimate was\n",
    "# provided for lambda, and the param_constraint for lambda is set to\n",
    "# False, the parameter estimate specified will remain fixed at that value\n",
    "# specified. \n",
    "# --------------------------------------------\n",
    "# \n",
    "# (8) threshold\n",
    "# Value type: Numeric\n",
    "# Values: range 0 - 1\n",
    "# \n",
    "# Value of proportion correct response to define threshold. This will \n",
    "# influence what threshold value is returned in the metrics['threshold'] \n",
    "# variable that is output by BayesFit upon completion of the fitting\n",
    "# procedure.\n",
    "# --------------------------------------------\n",
    "# \n",
    "# (9) n_samples\n",
    "# Value type: Numeric\n",
    "# Values: value > 0\n",
    "# \n",
    "# Determines the number of samples to draw per chain using the \n",
    "# MCMC algorithm. Default number of samples drawn is 5000 per chain.\n",
    "# --------------------------------------------\n",
    "# \n",
    "# (10) chains\n",
    "# Value type: Numeric\n",
    "# Values: value >= 2\n",
    "# \n",
    "# Number of chains to generate when sampling. This number should always \n",
    "# be greater than 2 to allow for diagnostic tests for convergence to be \n",
    "# possible. Default value is set to 2. \n",
    "# --------------------------------------------\n",
    "# \n",
    "# (11) n_workers\n",
    "# Value type: Numeric\n",
    "# Values: value > 0\n",
    "# \n",
    "# Roughly speaking, number of CPU cores to engage when sampling. Non-Windows\n",
    "# users should set this value higher than 1, but errors typically occur on \n",
    "# Windows with PyMC3 when the core limit is set to anything greater than 1.\n",
    "# Therefore, the default value is set to 1.\n",
    "\n",
    "\n",
    "\n",
    "\n",
    "# --------------------------------------------\n",
    "#\n",
    "# OUTPUT VARIABLES\n",
    "# \n",
    "# --------------------------------------------\n",
    "# \n",
    "# (1) Trace\n",
    "# Type: PyMC3 Object\n",
    "# \n",
    "# This output variable is a trace for the samples drawn for each\n",
    "# parameter estimated. To access a specific parameter from a trace, \n",
    "# simply use the parameter name as a key in the trace. For example, \n",
    "# to get the trace for parameter alpha, you would type the \n",
    "# following code into the python interpreter: trace['alpha']. \n",
    "# --------------------------------------------\n",
    "# \n",
    "# (2) Metrics\n",
    "# Type: dict\n",
    "# \n",
    "# Variable is a dictionary containing important metrics on the goodness\n",
    "# of fit for each parameter estimated, along with the threshold approximated\n",
    "# using the model fit defined at the threshold specified as input into\n",
    "# the fitmodel function. \n",
    "# --------------------------------------------\n",
    "# \n",
    "# (3) Options\n",
    "# Type: dict\n",
    "# \n",
    "# Returns a variable that contains all the options specified when \n",
    "# performing the fitting procedure."
   ]
  },
  {
   "cell_type": "markdown",
   "metadata": {},
   "source": [
    "Congratulations!  With the simple one function above, we have not only compiled a model, but have also drawn samples to estimate the parameters of the psychometric model fit our data using PyMC3! We can also visual the fitted model using the *plot_cdf* function of BayesFit. See the section on plotting functions below for more information on this.\n",
    "\n",
    "Easy?  Wait until you see the batch processing tutorial below! :) \n",
    "\n",
    "However, we are not out of the woods just yet. Because we are using an MCMC algorithm, we have evidence suggesting that our chains have converged. For more information on how to go about this procedure please see the section below titled 'Convergence Diagnostics'. \n",
    "\n",
    "For now, we will simply explore the output variables for completeness. "
   ]
  },
  {
   "cell_type": "markdown",
   "metadata": {},
   "source": [
    "### Output variables from 'fitmodel'"
   ]
  },
  {
   "cell_type": "markdown",
   "metadata": {},
   "source": [
    "Let us now examine the output variables in turn. The first output variable is a trace of the samples drawn for each output variable."
   ]
  },
  {
   "cell_type": "code",
   "execution_count": 6,
   "metadata": {
    "collapsed": false
   },
   "outputs": [
    {
     "name": "stdout",
     "output_type": "stream",
     "text": [
      "<MultiTrace: 2 chains, 5000 iterations, 5 variables>\n"
     ]
    }
   ],
   "source": [
    "print(trace)"
   ]
  },
  {
   "cell_type": "markdown",
   "metadata": {},
   "source": [
    "Let us now visualize what this trace looks like:"
   ]
  },
  {
   "cell_type": "code",
   "execution_count": 7,
   "metadata": {
    "collapsed": false
   },
   "outputs": [
    {
     "data": {
      "text/plain": [
       "<matplotlib.text.Text at 0x172131eb518>"
      ]
     },
     "execution_count": 7,
     "metadata": {},
     "output_type": "execute_result"
    },
    {
     "data": {
      "image/png": "[encoded data removed]",
      "text/plain": [
       "<matplotlib.figure.Figure at 0x17208493588>"
      ]
     },
     "metadata": {},
     "output_type": "display_data"
    }
   ],
   "source": [
    "plt.plot(trace['alpha'])\n",
    "plt.xlabel('Iteration')"
   ]
  },
  {
   "cell_type": "markdown",
   "metadata": {},
   "source": [
    "Next, let us examine the metrics output by the model for each parameter.\n",
    "\n",
    "First, to access numerical approximation of threshold obtained from our model to the data, we access the 'threshold' key in the metrics dictionary.  This would be done as so:"
   ]
  },
  {
   "cell_type": "code",
   "execution_count": 8,
   "metadata": {
    "collapsed": false
   },
   "outputs": [
    {
     "name": "stdout",
     "output_type": "stream",
     "text": [
      "0.573327332733\n"
     ]
    }
   ],
   "source": [
    "print(metrics['threshold'])"
   ]
  },
  {
   "cell_type": "markdown",
   "metadata": {},
   "source": [
    "We can also access metrics about the goodness-of-fit of parameters in the model. For example, to see the metrics for parameter alpha, we would type the following into the python interpreter:"
   ]
  },
  {
   "cell_type": "code",
   "execution_count": 9,
   "metadata": {
    "collapsed": false
   },
   "outputs": [
    {
     "name": "stdout",
     "output_type": "stream",
     "text": [
      "          mean       sd  mc_error   hpd_2.5  hpd_97.5   n_eff    Rhat\n",
      "alpha  0.56251  0.02302  0.000593  0.518534  0.606981  1273.0  0.9999\n"
     ]
    }
   ],
   "source": [
    "print(metrics['alpha'])"
   ]
  },
  {
   "cell_type": "markdown",
   "metadata": {},
   "source": [
    "Last, let us print out the options that we used when performing the sampling procedure:"
   ]
  },
  {
   "cell_type": "code",
   "execution_count": 10,
   "metadata": {
    "collapsed": false
   },
   "outputs": [
    {
     "name": "stdout",
     "output_type": "stream",
     "text": [
      "{'batch': False, 'logspace': False, 'nafc': 2, 'sigmoid_type': 'logistic', 'param_ests': [0.46666666666666679, 3, 0.5, 0], 'param_constraints': [True, True, False, True], 'threshold': 0.75, 'n_samples': 5000, 'chains': 2, 'n_workers': 1}\n"
     ]
    }
   ],
   "source": [
    "print(options)"
   ]
  },
  {
   "cell_type": "markdown",
   "metadata": {},
   "source": [
    "## get_threshold function: extract threshold of choice"
   ]
  },
  {
   "cell_type": "markdown",
   "metadata": {},
   "source": [
    "In addition to extracting a threshold via the metrics variable output, you can also extract a numerical approximation of the threshold using the model fit at any proportion correct response via the **get_threshold** function. Here is an example of its usage using variables ouput from the example above: "
   ]
  },
  {
   "cell_type": "code",
   "execution_count": 11,
   "metadata": {
    "collapsed": false
   },
   "outputs": [
    {
     "name": "stdout",
     "output_type": "stream",
     "text": [
      "0.52604260426\n"
     ]
    }
   ],
   "source": [
    "threshold_pc = 0.70\n",
    "print(bf.get_threshold(data, metrics, options, threshold_pc = threshold_pc))"
   ]
  },
  {
   "cell_type": "markdown",
   "metadata": {},
   "source": [
    "## Usage: Fitting model to multiple dataset (batch fitting)"
   ]
  },
  {
   "cell_type": "markdown",
   "metadata": {},
   "source": [
    "Fitting models to multiple datasets is just as easy using BayesFit as it is to fit a single model. The key difference between fitting multiple models to data versus one model is how the data is organized and passed to BayesFit. \n",
    "\n",
    "First, each dataset should be organized in the same way as in the single usage case. In other words, each dataset should have a m-row by 3-column Numpy array with proper arrangement as described in the tutorial section above for fitting a single model to a single dataset. \n",
    "\n",
    "For example: "
   ]
  },
  {
   "cell_type": "code",
   "execution_count": 12,
   "metadata": {
    "collapsed": true
   },
   "outputs": [],
   "source": [
    "# We will generate two ficitious sets of data from two different observers\n",
    "# run in the same experiment\n",
    "\n",
    "x_obs1 = [0.1, 0.21, 0.33, 0.44, 0.55, 0.66, 0.78, 0.9]\n",
    "y_obs1 = [0.48, 0.47, 0.53, 0.55, 0.73, 0.83, 0.97, 0.96] \n",
    "N_obs1 = [100, 100, 100, 100, 100, 100, 100, 100]\n",
    "data_obs1 = np.array([x_obs1, y_obs1, N_obs1]).T\n",
    "\n",
    "x_obs2 = [0.1, 0.21, 0.33, 0.44, 0.55, 0.66, 0.78, 0.9]\n",
    "y_obs2 = [0.51, 0.47, 0.55, 0.60, 0.75, 0.86, 0.99, 0.95] \n",
    "N_obs2 = [100, 100, 100, 100, 100, 100, 100, 100]\n",
    "data_obs2 = np.array([x_obs2, y_obs2, N_obs2]).T"
   ]
  },
  {
   "cell_type": "markdown",
   "metadata": {},
   "source": [
    "Now comes the key difference between batch and single model fitting using BayesFit. Each formatted dataset must be stored as a separate key under a single dictionary variable. So continuing the example above, we would do:"
   ]
  },
  {
   "cell_type": "code",
   "execution_count": 13,
   "metadata": {
    "collapsed": true
   },
   "outputs": [],
   "source": [
    "# Generate dictionary variable to store each dataset\n",
    "data_batch = dict()\n",
    "\n",
    "data_batch['data_obs1'] = data_obs1\n",
    "data_batch['data_obs2'] = data_obs2"
   ]
  },
  {
   "cell_type": "markdown",
   "metadata": {},
   "source": [
    "Now, we simply pass this dictionary dataset to BayesFit and set the **batch** input option to *True*. "
   ]
  },
  {
   "cell_type": "code",
   "execution_count": 14,
   "metadata": {
    "collapsed": false
   },
   "outputs": [
    {
     "name": "stderr",
     "output_type": "stream",
     "text": [
      "C:\\ProgramData\\Anaconda3\\lib\\site-packages\\bayesfit-2.0-py3.6.egg\\bayesfit\\bayesfit.py:109: VisibleDeprecationWarning: using a non-integer number instead of an integer will result in an error in the future\n",
      "  response_y = np.zeros(data[i, 2])\n",
      "Sequential sampling (2 chains in 1 job)\n",
      "CompoundStep\n",
      ">Metropolis: [lambda_logodds__]\n",
      ">Metropolis: [beta]\n",
      ">Metropolis: [alpha]\n",
      "100%|████████████████████████████████████████████████████████████████████████████| 5500/5500 [00:05<00:00, 1066.54it/s]\n",
      "100%|████████████████████████████████████████████████████████████████████████████| 5500/5500 [00:05<00:00, 1066.56it/s]\n",
      "The number of effective samples is smaller than 25% for some parameters.\n",
      "Sequential sampling (2 chains in 1 job)\n",
      "CompoundStep\n",
      ">Metropolis: [lambda_logodds__]\n",
      ">Metropolis: [beta]\n",
      ">Metropolis: [alpha]\n",
      "100%|████████████████████████████████████████████████████████████████████████████| 5500/5500 [00:04<00:00, 1153.97it/s]\n",
      "100%|████████████████████████████████████████████████████████████████████████████| 5500/5500 [00:04<00:00, 1117.34it/s]\n",
      "The number of effective samples is smaller than 25% for some parameters.\n"
     ]
    }
   ],
   "source": [
    "trace_batch, metrics_batch, options_batch = bf.fitmodel(data_batch,\n",
    "                                                            batch=True\n",
    "                                                            )"
   ]
  },
  {
   "cell_type": "markdown",
   "metadata": {},
   "source": [
    "And that is it! \n",
    "\n",
    "BayesFit will now extract each unique key from the dictionary argument for the data provided and fit a model. The only difference now is that the output variables *trace* and *metrics* from BayesFit will be of type dictionary, where each dataset has its own key that corresponds to its own set of outputs. For example, to access the metrics for the model fit to observer 1, we would use the following line of code: "
   ]
  },
  {
   "cell_type": "code",
   "execution_count": 15,
   "metadata": {
    "collapsed": false
   },
   "outputs": [
    {
     "name": "stdout",
     "output_type": "stream",
     "text": [
      "           mean        sd  mc_error   hpd_2.5  hpd_97.5   n_eff      Rhat\n",
      "alpha  0.561914  0.022769  0.000635  0.517119  0.606804  1247.0  1.000761\n"
     ]
    }
   ],
   "source": [
    "print(metrics_batch['data_obs1']['alpha'])"
   ]
  },
  {
   "cell_type": "markdown",
   "metadata": {},
   "source": [
    "Similar to above, the same applies for the trace variable:"
   ]
  },
  {
   "cell_type": "code",
   "execution_count": 16,
   "metadata": {
    "collapsed": false
   },
   "outputs": [
    {
     "name": "stdout",
     "output_type": "stream",
     "text": [
      "<MultiTrace: 2 chains, 5000 iterations, 5 variables>\n"
     ]
    }
   ],
   "source": [
    "print(trace_batch['data_obs1'])"
   ]
  },
  {
   "cell_type": "markdown",
   "metadata": {},
   "source": [
    "## Convergence Diagnostics"
   ]
  },
  {
   "cell_type": "markdown",
   "metadata": {},
   "source": [
    "ADAPTED FROM OUR ARTICLE ON BAYESFIT (REFERENCE TO BE PROVIDED):\n",
    "\n",
    "After generating estimates for the parameters of our model, we need to ensure that the samples that we have obtained from our MCMC simulations are valid. Besides examining metrics for the goodness-of-fit as outputted by the *fitmodel* function, we also need to diagnose whether our MCMC simulations have converged. \n",
    "\n",
    "To obtain evidence as to whether chains have converged, the BayesFit module provides users with the Geweke test [1] to empirically test for convergence of chains generated during sampling.\n",
    "\n",
    "BayesFit allows users to perform the Geweke test using the **geweke_plot** function. This function takes three arguments: 1) a single trace for the parameter under examination (e.g., alpha), such as that output from the **fitmodel** function  2) the number of intervals to divide the trace into  3) and the length of each interval. \n",
    "\n",
    "For more information on how these parameters might affect the outcome of the test, see Sahlin (2011) (as cited in [2]). To run the Geweke convergence diagnostic using BayesFit, the following code could be used: "
   ]
  },
  {
   "cell_type": "code",
   "execution_count": 17,
   "metadata": {
    "collapsed": false
   },
   "outputs": [
    {
     "data": {
      "image/png": "[encoded data removed]",
      "text/plain": [
       "<matplotlib.figure.Figure at 0x1721e1ec6a0>"
      ]
     },
     "metadata": {},
     "output_type": "display_data"
    }
   ],
   "source": [
    "# ** NOTE: Here we are using the trace from the example above where only a single dataset \n",
    "# was fit. Of course, to perform the same test when multiple models are fit, just extract \n",
    "# a trace for the parameter of interest from a single model fit such as:\n",
    "# trace_batch['data_obs1']['alpha']\n",
    "\n",
    "bf.geweke_plot(trace = trace['alpha'], \n",
    "                intervals = 10, \n",
    "                length = 300)"
   ]
  },
  {
   "cell_type": "markdown",
   "metadata": {},
   "source": [
    "As can be seen in this example, all z-scores fall within $\\pm$ 2 standard deviations from zero suggesting that the null hypothesis that the chain has converged cannot be rejected. The Geweke diagnostic should be repeated for every parameter estimated during the fitting procedure. "
   ]
  },
  {
   "cell_type": "markdown",
   "metadata": {},
   "source": [
    "## Plot fitted model"
   ]
  },
  {
   "cell_type": "markdown",
   "metadata": {},
   "source": [
    "The last thing that we will do is generate a plot based on the model fit to our psychophysical data. To accomplish this, BayesFit offers a function called **plot_cdf** to visualize the model fit:"
   ]
  },
  {
   "cell_type": "code",
   "execution_count": 18,
   "metadata": {
    "collapsed": false
   },
   "outputs": [
    {
     "data": {
      "image/png": "[encoded data removed]",
      "text/plain": [
       "<matplotlib.figure.Figure at 0x1720de23c18>"
      ]
     },
     "metadata": {},
     "output_type": "display_data"
    }
   ],
   "source": [
    "# Next, we use our plotting function and feed it the optional plot we defined above\n",
    "# along with all other necessary input arguments\n",
    "bf.plot_cdf(data, metrics, options)"
   ]
  },
  {
   "cell_type": "markdown",
   "metadata": {},
   "source": [
    "As you can see, our fitted function is very good given our data! Getting parameter estimates for a function fit, along with extracting a estimate of threshold, is likely the primary use most users will employ this module for. The red line inidicates the guess rate defined for the fitted model, and the black dotted lines indicate where the threhold is located on the curve.   "
   ]
  },
  {
   "cell_type": "markdown",
   "metadata": {},
   "source": [
    "## Conclusion"
   ]
  },
  {
   "cell_type": "markdown",
   "metadata": {},
   "source": [
    "** THANK YOU FOR USING THE BAYESFIT MODULE!!!.**  \n",
    "\n",
    "**IF YOU HAVE ANY QUESTIONS OR ISSUES, PLEASE DO NOT HESITATE TO LET ME KNOW.  ALSO, IF YOU FOUND THIS MODULE USEFUL, PLEASE SHOW YOUR APPRECIATION IN WHATEVER WAY YOU CAN. ** \n",
    "\n",
    "** KINDEST REGARDS,** \n",
    "**-MICHAEL SLUGOCKI-**"
   ]
  },
  {
   "cell_type": "markdown",
   "metadata": {},
   "source": [
    "## References"
   ]
  },
  {
   "cell_type": "markdown",
   "metadata": {},
   "source": [
    "[1] Geweke, J., 1991. Evaluating the accuracy of sampling-based approaches to the calculation of posterior moments (Vol. 196). Minneapolis, MN, USA: Federal Reserve Bank of Minneapolis, Research Department.\n",
    "\n",
    "[2] Sahlin, K., 2011. Estimating convergence of Markov chain Monte Carlo simulations. Stockholm University, Master Thesis."
   ]
  }
 ],
 "metadata": {
  "kernelspec": {
   "display_name": "Python 3",
   "language": "python",
   "name": "python3"
  },
  "language_info": {
   "codemirror_mode": {
    "name": "ipython",
    "version": 3
   },
   "file_extension": ".py",
   "mimetype": "text/x-python",
   "name": "python",
   "nbconvert_exporter": "python",
   "pygments_lexer": "ipython3",
   "version": "3.6.0"
  }
 },
 "nbformat": 4,
 "nbformat_minor": 2
}
